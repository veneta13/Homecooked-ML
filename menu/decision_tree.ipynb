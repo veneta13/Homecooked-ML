{
 "cells": [
  {
   "cell_type": "code",
   "execution_count": 1,
   "outputs": [],
   "source": [
    "import sys\n",
    "sys.path.append(\"..\")"
   ],
   "metadata": {
    "collapsed": false,
    "ExecuteTime": {
     "end_time": "2023-12-24T15:26:45.126307500Z",
     "start_time": "2023-12-24T15:26:45.121295800Z"
    }
   },
   "id": "4e365a8cd486a254"
  },
  {
   "cell_type": "code",
   "execution_count": 2,
   "id": "initial_id",
   "metadata": {
    "collapsed": true,
    "ExecuteTime": {
     "end_time": "2023-12-24T15:26:45.312204600Z",
     "start_time": "2023-12-24T15:26:45.126307500Z"
    }
   },
   "outputs": [],
   "source": [
    "import pandas as pd\n",
    "from ucimlrepo import fetch_ucirepo "
   ]
  },
  {
   "cell_type": "code",
   "execution_count": 3,
   "outputs": [],
   "source": [
    "from recipes.decision_tree import DecisionTreeClassifier\n",
    "from recipes.random_forest import RandomForestClassifier\n",
    "from recipes.cross_validation import cross_validate"
   ],
   "metadata": {
    "collapsed": false,
    "ExecuteTime": {
     "end_time": "2023-12-24T15:26:45.327204600Z",
     "start_time": "2023-12-24T15:26:45.314204Z"
    }
   },
   "id": "90a13bccca88a068"
  },
  {
   "cell_type": "code",
   "execution_count": 4,
   "outputs": [],
   "source": [
    "breast_cancer = fetch_ucirepo(id=14) "
   ],
   "metadata": {
    "collapsed": false,
    "ExecuteTime": {
     "end_time": "2023-12-24T15:26:47.348308700Z",
     "start_time": "2023-12-24T15:26:45.330204800Z"
    }
   },
   "id": "c9459f28f033952a"
  },
  {
   "cell_type": "code",
   "execution_count": 5,
   "outputs": [],
   "source": [
    "X = breast_cancer.data.features \n",
    "y = breast_cancer.data.targets   "
   ],
   "metadata": {
    "collapsed": false,
    "ExecuteTime": {
     "end_time": "2023-12-24T15:26:47.360317400Z",
     "start_time": "2023-12-24T15:26:47.351320400Z"
    }
   },
   "id": "c21bf448f0320db3"
  },
  {
   "cell_type": "code",
   "execution_count": 6,
   "outputs": [
    {
     "data": {
      "text/plain": "       age menopause tumor-size inv-nodes node-caps  deg-malig breast  \\\n0    30-39   premeno      30-34       0-2        no          3   left   \n1    40-49   premeno      20-24       0-2        no          2  right   \n2    40-49   premeno      20-24       0-2        no          2   left   \n3    60-69      ge40      15-19       0-2        no          2  right   \n4    40-49   premeno        0-4       0-2        no          2  right   \n..     ...       ...        ...       ...       ...        ...    ...   \n281  30-39   premeno      30-34       0-2        no          2   left   \n282  30-39   premeno      20-24       0-2        no          3   left   \n283  60-69      ge40      20-24       0-2        no          1  right   \n284  40-49      ge40      30-34     5-Mar        no          3   left   \n285  50-59      ge40      30-34     5-Mar        no          3   left   \n\n    breast-quad irradiat  \n0      left_low       no  \n1      right_up       no  \n2      left_low       no  \n3       left_up       no  \n4     right_low       no  \n..          ...      ...  \n281     left_up       no  \n282     left_up      yes  \n283     left_up       no  \n284    left_low       no  \n285    left_low       no  \n\n[286 rows x 9 columns]",
      "text/html": "<div>\n<style scoped>\n    .dataframe tbody tr th:only-of-type {\n        vertical-align: middle;\n    }\n\n    .dataframe tbody tr th {\n        vertical-align: top;\n    }\n\n    .dataframe thead th {\n        text-align: right;\n    }\n</style>\n<table border=\"1\" class=\"dataframe\">\n  <thead>\n    <tr style=\"text-align: right;\">\n      <th></th>\n      <th>age</th>\n      <th>menopause</th>\n      <th>tumor-size</th>\n      <th>inv-nodes</th>\n      <th>node-caps</th>\n      <th>deg-malig</th>\n      <th>breast</th>\n      <th>breast-quad</th>\n      <th>irradiat</th>\n    </tr>\n  </thead>\n  <tbody>\n    <tr>\n      <th>0</th>\n      <td>30-39</td>\n      <td>premeno</td>\n      <td>30-34</td>\n      <td>0-2</td>\n      <td>no</td>\n      <td>3</td>\n      <td>left</td>\n      <td>left_low</td>\n      <td>no</td>\n    </tr>\n    <tr>\n      <th>1</th>\n      <td>40-49</td>\n      <td>premeno</td>\n      <td>20-24</td>\n      <td>0-2</td>\n      <td>no</td>\n      <td>2</td>\n      <td>right</td>\n      <td>right_up</td>\n      <td>no</td>\n    </tr>\n    <tr>\n      <th>2</th>\n      <td>40-49</td>\n      <td>premeno</td>\n      <td>20-24</td>\n      <td>0-2</td>\n      <td>no</td>\n      <td>2</td>\n      <td>left</td>\n      <td>left_low</td>\n      <td>no</td>\n    </tr>\n    <tr>\n      <th>3</th>\n      <td>60-69</td>\n      <td>ge40</td>\n      <td>15-19</td>\n      <td>0-2</td>\n      <td>no</td>\n      <td>2</td>\n      <td>right</td>\n      <td>left_up</td>\n      <td>no</td>\n    </tr>\n    <tr>\n      <th>4</th>\n      <td>40-49</td>\n      <td>premeno</td>\n      <td>0-4</td>\n      <td>0-2</td>\n      <td>no</td>\n      <td>2</td>\n      <td>right</td>\n      <td>right_low</td>\n      <td>no</td>\n    </tr>\n    <tr>\n      <th>...</th>\n      <td>...</td>\n      <td>...</td>\n      <td>...</td>\n      <td>...</td>\n      <td>...</td>\n      <td>...</td>\n      <td>...</td>\n      <td>...</td>\n      <td>...</td>\n    </tr>\n    <tr>\n      <th>281</th>\n      <td>30-39</td>\n      <td>premeno</td>\n      <td>30-34</td>\n      <td>0-2</td>\n      <td>no</td>\n      <td>2</td>\n      <td>left</td>\n      <td>left_up</td>\n      <td>no</td>\n    </tr>\n    <tr>\n      <th>282</th>\n      <td>30-39</td>\n      <td>premeno</td>\n      <td>20-24</td>\n      <td>0-2</td>\n      <td>no</td>\n      <td>3</td>\n      <td>left</td>\n      <td>left_up</td>\n      <td>yes</td>\n    </tr>\n    <tr>\n      <th>283</th>\n      <td>60-69</td>\n      <td>ge40</td>\n      <td>20-24</td>\n      <td>0-2</td>\n      <td>no</td>\n      <td>1</td>\n      <td>right</td>\n      <td>left_up</td>\n      <td>no</td>\n    </tr>\n    <tr>\n      <th>284</th>\n      <td>40-49</td>\n      <td>ge40</td>\n      <td>30-34</td>\n      <td>5-Mar</td>\n      <td>no</td>\n      <td>3</td>\n      <td>left</td>\n      <td>left_low</td>\n      <td>no</td>\n    </tr>\n    <tr>\n      <th>285</th>\n      <td>50-59</td>\n      <td>ge40</td>\n      <td>30-34</td>\n      <td>5-Mar</td>\n      <td>no</td>\n      <td>3</td>\n      <td>left</td>\n      <td>left_low</td>\n      <td>no</td>\n    </tr>\n  </tbody>\n</table>\n<p>286 rows × 9 columns</p>\n</div>"
     },
     "execution_count": 6,
     "metadata": {},
     "output_type": "execute_result"
    }
   ],
   "source": [
    "X"
   ],
   "metadata": {
    "collapsed": false,
    "ExecuteTime": {
     "end_time": "2023-12-24T15:26:47.389841700Z",
     "start_time": "2023-12-24T15:26:47.361314100Z"
    }
   },
   "id": "3549592c53512b65"
  },
  {
   "cell_type": "code",
   "execution_count": 7,
   "outputs": [
    {
     "data": {
      "text/plain": "                    Class\n0    no-recurrence-events\n1    no-recurrence-events\n2    no-recurrence-events\n3    no-recurrence-events\n4    no-recurrence-events\n..                    ...\n281     recurrence-events\n282     recurrence-events\n283     recurrence-events\n284     recurrence-events\n285     recurrence-events\n\n[286 rows x 1 columns]",
      "text/html": "<div>\n<style scoped>\n    .dataframe tbody tr th:only-of-type {\n        vertical-align: middle;\n    }\n\n    .dataframe tbody tr th {\n        vertical-align: top;\n    }\n\n    .dataframe thead th {\n        text-align: right;\n    }\n</style>\n<table border=\"1\" class=\"dataframe\">\n  <thead>\n    <tr style=\"text-align: right;\">\n      <th></th>\n      <th>Class</th>\n    </tr>\n  </thead>\n  <tbody>\n    <tr>\n      <th>0</th>\n      <td>no-recurrence-events</td>\n    </tr>\n    <tr>\n      <th>1</th>\n      <td>no-recurrence-events</td>\n    </tr>\n    <tr>\n      <th>2</th>\n      <td>no-recurrence-events</td>\n    </tr>\n    <tr>\n      <th>3</th>\n      <td>no-recurrence-events</td>\n    </tr>\n    <tr>\n      <th>4</th>\n      <td>no-recurrence-events</td>\n    </tr>\n    <tr>\n      <th>...</th>\n      <td>...</td>\n    </tr>\n    <tr>\n      <th>281</th>\n      <td>recurrence-events</td>\n    </tr>\n    <tr>\n      <th>282</th>\n      <td>recurrence-events</td>\n    </tr>\n    <tr>\n      <th>283</th>\n      <td>recurrence-events</td>\n    </tr>\n    <tr>\n      <th>284</th>\n      <td>recurrence-events</td>\n    </tr>\n    <tr>\n      <th>285</th>\n      <td>recurrence-events</td>\n    </tr>\n  </tbody>\n</table>\n<p>286 rows × 1 columns</p>\n</div>"
     },
     "execution_count": 7,
     "metadata": {},
     "output_type": "execute_result"
    }
   ],
   "source": [
    "y"
   ],
   "metadata": {
    "collapsed": false,
    "ExecuteTime": {
     "end_time": "2023-12-24T15:26:47.421889200Z",
     "start_time": "2023-12-24T15:26:47.375838600Z"
    }
   },
   "id": "e11620eb0f146cc2"
  },
  {
   "cell_type": "code",
   "execution_count": 8,
   "outputs": [
    {
     "data": {
      "text/plain": "       age menopause tumor-size inv-nodes node-caps  deg-malig breast  \\\n0    30-39   premeno      30-34       0-2        no          3   left   \n1    40-49   premeno      20-24       0-2        no          2  right   \n2    40-49   premeno      20-24       0-2        no          2   left   \n3    60-69      ge40      15-19       0-2        no          2  right   \n4    40-49   premeno        0-4       0-2        no          2  right   \n..     ...       ...        ...       ...       ...        ...    ...   \n281  30-39   premeno      30-34       0-2        no          2   left   \n282  30-39   premeno      20-24       0-2        no          3   left   \n283  60-69      ge40      20-24       0-2        no          1  right   \n284  40-49      ge40      30-34     5-Mar        no          3   left   \n285  50-59      ge40      30-34     5-Mar        no          3   left   \n\n    breast-quad irradiat                 Class  \n0      left_low       no  no-recurrence-events  \n1      right_up       no  no-recurrence-events  \n2      left_low       no  no-recurrence-events  \n3       left_up       no  no-recurrence-events  \n4     right_low       no  no-recurrence-events  \n..          ...      ...                   ...  \n281     left_up       no     recurrence-events  \n282     left_up      yes     recurrence-events  \n283     left_up       no     recurrence-events  \n284    left_low       no     recurrence-events  \n285    left_low       no     recurrence-events  \n\n[286 rows x 10 columns]",
      "text/html": "<div>\n<style scoped>\n    .dataframe tbody tr th:only-of-type {\n        vertical-align: middle;\n    }\n\n    .dataframe tbody tr th {\n        vertical-align: top;\n    }\n\n    .dataframe thead th {\n        text-align: right;\n    }\n</style>\n<table border=\"1\" class=\"dataframe\">\n  <thead>\n    <tr style=\"text-align: right;\">\n      <th></th>\n      <th>age</th>\n      <th>menopause</th>\n      <th>tumor-size</th>\n      <th>inv-nodes</th>\n      <th>node-caps</th>\n      <th>deg-malig</th>\n      <th>breast</th>\n      <th>breast-quad</th>\n      <th>irradiat</th>\n      <th>Class</th>\n    </tr>\n  </thead>\n  <tbody>\n    <tr>\n      <th>0</th>\n      <td>30-39</td>\n      <td>premeno</td>\n      <td>30-34</td>\n      <td>0-2</td>\n      <td>no</td>\n      <td>3</td>\n      <td>left</td>\n      <td>left_low</td>\n      <td>no</td>\n      <td>no-recurrence-events</td>\n    </tr>\n    <tr>\n      <th>1</th>\n      <td>40-49</td>\n      <td>premeno</td>\n      <td>20-24</td>\n      <td>0-2</td>\n      <td>no</td>\n      <td>2</td>\n      <td>right</td>\n      <td>right_up</td>\n      <td>no</td>\n      <td>no-recurrence-events</td>\n    </tr>\n    <tr>\n      <th>2</th>\n      <td>40-49</td>\n      <td>premeno</td>\n      <td>20-24</td>\n      <td>0-2</td>\n      <td>no</td>\n      <td>2</td>\n      <td>left</td>\n      <td>left_low</td>\n      <td>no</td>\n      <td>no-recurrence-events</td>\n    </tr>\n    <tr>\n      <th>3</th>\n      <td>60-69</td>\n      <td>ge40</td>\n      <td>15-19</td>\n      <td>0-2</td>\n      <td>no</td>\n      <td>2</td>\n      <td>right</td>\n      <td>left_up</td>\n      <td>no</td>\n      <td>no-recurrence-events</td>\n    </tr>\n    <tr>\n      <th>4</th>\n      <td>40-49</td>\n      <td>premeno</td>\n      <td>0-4</td>\n      <td>0-2</td>\n      <td>no</td>\n      <td>2</td>\n      <td>right</td>\n      <td>right_low</td>\n      <td>no</td>\n      <td>no-recurrence-events</td>\n    </tr>\n    <tr>\n      <th>...</th>\n      <td>...</td>\n      <td>...</td>\n      <td>...</td>\n      <td>...</td>\n      <td>...</td>\n      <td>...</td>\n      <td>...</td>\n      <td>...</td>\n      <td>...</td>\n      <td>...</td>\n    </tr>\n    <tr>\n      <th>281</th>\n      <td>30-39</td>\n      <td>premeno</td>\n      <td>30-34</td>\n      <td>0-2</td>\n      <td>no</td>\n      <td>2</td>\n      <td>left</td>\n      <td>left_up</td>\n      <td>no</td>\n      <td>recurrence-events</td>\n    </tr>\n    <tr>\n      <th>282</th>\n      <td>30-39</td>\n      <td>premeno</td>\n      <td>20-24</td>\n      <td>0-2</td>\n      <td>no</td>\n      <td>3</td>\n      <td>left</td>\n      <td>left_up</td>\n      <td>yes</td>\n      <td>recurrence-events</td>\n    </tr>\n    <tr>\n      <th>283</th>\n      <td>60-69</td>\n      <td>ge40</td>\n      <td>20-24</td>\n      <td>0-2</td>\n      <td>no</td>\n      <td>1</td>\n      <td>right</td>\n      <td>left_up</td>\n      <td>no</td>\n      <td>recurrence-events</td>\n    </tr>\n    <tr>\n      <th>284</th>\n      <td>40-49</td>\n      <td>ge40</td>\n      <td>30-34</td>\n      <td>5-Mar</td>\n      <td>no</td>\n      <td>3</td>\n      <td>left</td>\n      <td>left_low</td>\n      <td>no</td>\n      <td>recurrence-events</td>\n    </tr>\n    <tr>\n      <th>285</th>\n      <td>50-59</td>\n      <td>ge40</td>\n      <td>30-34</td>\n      <td>5-Mar</td>\n      <td>no</td>\n      <td>3</td>\n      <td>left</td>\n      <td>left_low</td>\n      <td>no</td>\n      <td>recurrence-events</td>\n    </tr>\n  </tbody>\n</table>\n<p>286 rows × 10 columns</p>\n</div>"
     },
     "execution_count": 8,
     "metadata": {},
     "output_type": "execute_result"
    }
   ],
   "source": [
    "df = pd.concat([X, y], axis=1)\n",
    "df"
   ],
   "metadata": {
    "collapsed": false,
    "ExecuteTime": {
     "end_time": "2023-12-24T15:26:47.453944100Z",
     "start_time": "2023-12-24T15:26:47.391841Z"
    }
   },
   "id": "7291ddba30a51ccd"
  },
  {
   "cell_type": "code",
   "execution_count": 9,
   "outputs": [
    {
     "name": "stdout",
     "output_type": "stream",
     "text": [
      "<class 'pandas.core.frame.DataFrame'>\n",
      "RangeIndex: 286 entries, 0 to 285\n",
      "Data columns (total 10 columns):\n",
      " #   Column       Non-Null Count  Dtype \n",
      "---  ------       --------------  ----- \n",
      " 0   age          286 non-null    object\n",
      " 1   menopause    286 non-null    object\n",
      " 2   tumor-size   286 non-null    object\n",
      " 3   inv-nodes    286 non-null    object\n",
      " 4   node-caps    278 non-null    object\n",
      " 5   deg-malig    286 non-null    int64 \n",
      " 6   breast       286 non-null    object\n",
      " 7   breast-quad  285 non-null    object\n",
      " 8   irradiat     286 non-null    object\n",
      " 9   Class        286 non-null    object\n",
      "dtypes: int64(1), object(9)\n",
      "memory usage: 22.5+ KB\n"
     ]
    }
   ],
   "source": [
    "df.info()"
   ],
   "metadata": {
    "collapsed": false,
    "ExecuteTime": {
     "end_time": "2023-12-24T15:26:47.473379500Z",
     "start_time": "2023-12-24T15:26:47.407891500Z"
    }
   },
   "id": "6ab49df7574198ad"
  },
  {
   "cell_type": "code",
   "execution_count": 10,
   "outputs": [
    {
     "data": {
      "text/plain": "        deg-malig\ncount  286.000000\nmean     2.048951\nstd      0.738217\nmin      1.000000\n25%      2.000000\n50%      2.000000\n75%      3.000000\nmax      3.000000",
      "text/html": "<div>\n<style scoped>\n    .dataframe tbody tr th:only-of-type {\n        vertical-align: middle;\n    }\n\n    .dataframe tbody tr th {\n        vertical-align: top;\n    }\n\n    .dataframe thead th {\n        text-align: right;\n    }\n</style>\n<table border=\"1\" class=\"dataframe\">\n  <thead>\n    <tr style=\"text-align: right;\">\n      <th></th>\n      <th>deg-malig</th>\n    </tr>\n  </thead>\n  <tbody>\n    <tr>\n      <th>count</th>\n      <td>286.000000</td>\n    </tr>\n    <tr>\n      <th>mean</th>\n      <td>2.048951</td>\n    </tr>\n    <tr>\n      <th>std</th>\n      <td>0.738217</td>\n    </tr>\n    <tr>\n      <th>min</th>\n      <td>1.000000</td>\n    </tr>\n    <tr>\n      <th>25%</th>\n      <td>2.000000</td>\n    </tr>\n    <tr>\n      <th>50%</th>\n      <td>2.000000</td>\n    </tr>\n    <tr>\n      <th>75%</th>\n      <td>3.000000</td>\n    </tr>\n    <tr>\n      <th>max</th>\n      <td>3.000000</td>\n    </tr>\n  </tbody>\n</table>\n</div>"
     },
     "execution_count": 10,
     "metadata": {},
     "output_type": "execute_result"
    }
   ],
   "source": [
    "df.describe()"
   ],
   "metadata": {
    "collapsed": false,
    "ExecuteTime": {
     "end_time": "2023-12-24T15:26:47.474380100Z",
     "start_time": "2023-12-24T15:26:47.427909700Z"
    }
   },
   "id": "ecbaed73414c7567"
  },
  {
   "cell_type": "code",
   "execution_count": 11,
   "outputs": [
    {
     "data": {
      "text/plain": "       age menopause tumor-size inv-nodes node-caps  deg-malig breast  \\\n0    30-39   premeno      30-34       0-2        no          3   left   \n1    40-49   premeno      20-24       0-2        no          2  right   \n2    40-49   premeno      20-24       0-2        no          2   left   \n3    60-69      ge40      15-19       0-2        no          2  right   \n4    40-49   premeno        0-4       0-2        no          2  right   \n..     ...       ...        ...       ...       ...        ...    ...   \n281  30-39   premeno      30-34       0-2        no          2   left   \n282  30-39   premeno      20-24       0-2        no          3   left   \n283  60-69      ge40      20-24       0-2        no          1  right   \n284  40-49      ge40      30-34     5-Mar        no          3   left   \n285  50-59      ge40      30-34     5-Mar        no          3   left   \n\n    breast-quad irradiat                 Class  \n0      left_low       no  no-recurrence-events  \n1      right_up       no  no-recurrence-events  \n2      left_low       no  no-recurrence-events  \n3       left_up       no  no-recurrence-events  \n4     right_low       no  no-recurrence-events  \n..          ...      ...                   ...  \n281     left_up       no     recurrence-events  \n282     left_up      yes     recurrence-events  \n283     left_up       no     recurrence-events  \n284    left_low       no     recurrence-events  \n285    left_low       no     recurrence-events  \n\n[277 rows x 10 columns]",
      "text/html": "<div>\n<style scoped>\n    .dataframe tbody tr th:only-of-type {\n        vertical-align: middle;\n    }\n\n    .dataframe tbody tr th {\n        vertical-align: top;\n    }\n\n    .dataframe thead th {\n        text-align: right;\n    }\n</style>\n<table border=\"1\" class=\"dataframe\">\n  <thead>\n    <tr style=\"text-align: right;\">\n      <th></th>\n      <th>age</th>\n      <th>menopause</th>\n      <th>tumor-size</th>\n      <th>inv-nodes</th>\n      <th>node-caps</th>\n      <th>deg-malig</th>\n      <th>breast</th>\n      <th>breast-quad</th>\n      <th>irradiat</th>\n      <th>Class</th>\n    </tr>\n  </thead>\n  <tbody>\n    <tr>\n      <th>0</th>\n      <td>30-39</td>\n      <td>premeno</td>\n      <td>30-34</td>\n      <td>0-2</td>\n      <td>no</td>\n      <td>3</td>\n      <td>left</td>\n      <td>left_low</td>\n      <td>no</td>\n      <td>no-recurrence-events</td>\n    </tr>\n    <tr>\n      <th>1</th>\n      <td>40-49</td>\n      <td>premeno</td>\n      <td>20-24</td>\n      <td>0-2</td>\n      <td>no</td>\n      <td>2</td>\n      <td>right</td>\n      <td>right_up</td>\n      <td>no</td>\n      <td>no-recurrence-events</td>\n    </tr>\n    <tr>\n      <th>2</th>\n      <td>40-49</td>\n      <td>premeno</td>\n      <td>20-24</td>\n      <td>0-2</td>\n      <td>no</td>\n      <td>2</td>\n      <td>left</td>\n      <td>left_low</td>\n      <td>no</td>\n      <td>no-recurrence-events</td>\n    </tr>\n    <tr>\n      <th>3</th>\n      <td>60-69</td>\n      <td>ge40</td>\n      <td>15-19</td>\n      <td>0-2</td>\n      <td>no</td>\n      <td>2</td>\n      <td>right</td>\n      <td>left_up</td>\n      <td>no</td>\n      <td>no-recurrence-events</td>\n    </tr>\n    <tr>\n      <th>4</th>\n      <td>40-49</td>\n      <td>premeno</td>\n      <td>0-4</td>\n      <td>0-2</td>\n      <td>no</td>\n      <td>2</td>\n      <td>right</td>\n      <td>right_low</td>\n      <td>no</td>\n      <td>no-recurrence-events</td>\n    </tr>\n    <tr>\n      <th>...</th>\n      <td>...</td>\n      <td>...</td>\n      <td>...</td>\n      <td>...</td>\n      <td>...</td>\n      <td>...</td>\n      <td>...</td>\n      <td>...</td>\n      <td>...</td>\n      <td>...</td>\n    </tr>\n    <tr>\n      <th>281</th>\n      <td>30-39</td>\n      <td>premeno</td>\n      <td>30-34</td>\n      <td>0-2</td>\n      <td>no</td>\n      <td>2</td>\n      <td>left</td>\n      <td>left_up</td>\n      <td>no</td>\n      <td>recurrence-events</td>\n    </tr>\n    <tr>\n      <th>282</th>\n      <td>30-39</td>\n      <td>premeno</td>\n      <td>20-24</td>\n      <td>0-2</td>\n      <td>no</td>\n      <td>3</td>\n      <td>left</td>\n      <td>left_up</td>\n      <td>yes</td>\n      <td>recurrence-events</td>\n    </tr>\n    <tr>\n      <th>283</th>\n      <td>60-69</td>\n      <td>ge40</td>\n      <td>20-24</td>\n      <td>0-2</td>\n      <td>no</td>\n      <td>1</td>\n      <td>right</td>\n      <td>left_up</td>\n      <td>no</td>\n      <td>recurrence-events</td>\n    </tr>\n    <tr>\n      <th>284</th>\n      <td>40-49</td>\n      <td>ge40</td>\n      <td>30-34</td>\n      <td>5-Mar</td>\n      <td>no</td>\n      <td>3</td>\n      <td>left</td>\n      <td>left_low</td>\n      <td>no</td>\n      <td>recurrence-events</td>\n    </tr>\n    <tr>\n      <th>285</th>\n      <td>50-59</td>\n      <td>ge40</td>\n      <td>30-34</td>\n      <td>5-Mar</td>\n      <td>no</td>\n      <td>3</td>\n      <td>left</td>\n      <td>left_low</td>\n      <td>no</td>\n      <td>recurrence-events</td>\n    </tr>\n  </tbody>\n</table>\n<p>277 rows × 10 columns</p>\n</div>"
     },
     "execution_count": 11,
     "metadata": {},
     "output_type": "execute_result"
    }
   ],
   "source": [
    "df = df.dropna(axis=0)\n",
    "df"
   ],
   "metadata": {
    "collapsed": false,
    "ExecuteTime": {
     "end_time": "2023-12-24T15:26:47.475378900Z",
     "start_time": "2023-12-24T15:26:47.440896900Z"
    }
   },
   "id": "1cbd6b89caf7631a"
  },
  {
   "cell_type": "code",
   "execution_count": 12,
   "outputs": [],
   "source": [
    "X = df.loc[:, df.columns != 'Class']\n",
    "y = df['Class']"
   ],
   "metadata": {
    "collapsed": false,
    "ExecuteTime": {
     "end_time": "2023-12-24T15:26:47.530430200Z",
     "start_time": "2023-12-24T15:26:47.456904700Z"
    }
   },
   "id": "7611c0672ea29ff3"
  },
  {
   "cell_type": "code",
   "execution_count": 13,
   "outputs": [],
   "source": [
    "classifier = DecisionTreeClassifier()"
   ],
   "metadata": {
    "collapsed": false,
    "ExecuteTime": {
     "end_time": "2023-12-24T15:26:47.564998100Z",
     "start_time": "2023-12-24T15:26:47.470378500Z"
    }
   },
   "id": "9c23372f5413aeff"
  },
  {
   "cell_type": "code",
   "execution_count": 14,
   "outputs": [
    {
     "data": {
      "text/plain": "([0.7090909090909091,\n  0.6,\n  0.7090909090909091,\n  0.6363636363636364,\n  0.6909090909090909],\n 0.6690909090909091)"
     },
     "execution_count": 14,
     "metadata": {},
     "output_type": "execute_result"
    }
   ],
   "source": [
    "cross_validate(X, y, classifier, 5)"
   ],
   "metadata": {
    "collapsed": false,
    "ExecuteTime": {
     "end_time": "2023-12-24T15:26:48.535718800Z",
     "start_time": "2023-12-24T15:26:47.497378500Z"
    }
   },
   "id": "78c4cf7db36e5d83"
  },
  {
   "cell_type": "code",
   "execution_count": 15,
   "outputs": [],
   "source": [
    "results = pd.DataFrame(columns=['depth', 'k', 'score'])\n",
    "for depth in [2, 3, 5, 7, 10, 20]:\n",
    "    for k in [2, 5, 8, 12, 15, 20, 30, 50]:\n",
    "        classifier = DecisionTreeClassifier(k=k, max_depth=depth)\n",
    "        results.loc[len(results.index)] = [depth, k, cross_validate(X, y, classifier, 10)[1]]"
   ],
   "metadata": {
    "collapsed": false,
    "ExecuteTime": {
     "end_time": "2023-12-24T15:28:30.513693800Z",
     "start_time": "2023-12-24T15:26:48.536718400Z"
    }
   },
   "id": "637cb0e97444fac3"
  },
  {
   "cell_type": "code",
   "execution_count": 16,
   "outputs": [
    {
     "data": {
      "text/plain": "    depth     k     score\n0     2.0   2.0  0.640741\n1     2.0   5.0  0.607407\n2     2.0   8.0  0.625926\n3     2.0  12.0  0.622222\n4     2.0  15.0  0.648148\n5     2.0  20.0  0.648148\n6     2.0  30.0  0.633333\n7     2.0  50.0  0.688889\n8     3.0   2.0  0.603704\n9     3.0   5.0  0.655556\n10    3.0   8.0  0.685185\n11    3.0  12.0  0.596296\n12    3.0  15.0  0.670370\n13    3.0  20.0  0.677778\n14    3.0  30.0  0.696296\n15    3.0  50.0  0.670370\n16    5.0   2.0  0.618519\n17    5.0   5.0  0.640741\n18    5.0   8.0  0.659259\n19    5.0  12.0  0.644444\n20    5.0  15.0  0.659259\n21    5.0  20.0  0.655556\n22    5.0  30.0  0.655556\n23    5.0  50.0  0.677778\n24    7.0   2.0  0.600000\n25    7.0   5.0  0.625926\n26    7.0   8.0  0.618519\n27    7.0  12.0  0.596296\n28    7.0  15.0  0.644444\n29    7.0  20.0  0.677778\n30    7.0  30.0  0.662963\n31    7.0  50.0  0.685185\n32   10.0   2.0  0.607407\n33   10.0   5.0  0.674074\n34   10.0   8.0  0.607407\n35   10.0  12.0  0.648148\n36   10.0  15.0  0.629630\n37   10.0  20.0  0.659259\n38   10.0  30.0  0.677778\n39   10.0  50.0  0.696296\n40   20.0   2.0  0.640741\n41   20.0   5.0  0.648148\n42   20.0   8.0  0.618519\n43   20.0  12.0  0.592593\n44   20.0  15.0  0.644444\n45   20.0  20.0  0.648148\n46   20.0  30.0  0.644444\n47   20.0  50.0  0.670370",
      "text/html": "<div>\n<style scoped>\n    .dataframe tbody tr th:only-of-type {\n        vertical-align: middle;\n    }\n\n    .dataframe tbody tr th {\n        vertical-align: top;\n    }\n\n    .dataframe thead th {\n        text-align: right;\n    }\n</style>\n<table border=\"1\" class=\"dataframe\">\n  <thead>\n    <tr style=\"text-align: right;\">\n      <th></th>\n      <th>depth</th>\n      <th>k</th>\n      <th>score</th>\n    </tr>\n  </thead>\n  <tbody>\n    <tr>\n      <th>0</th>\n      <td>2.0</td>\n      <td>2.0</td>\n      <td>0.640741</td>\n    </tr>\n    <tr>\n      <th>1</th>\n      <td>2.0</td>\n      <td>5.0</td>\n      <td>0.607407</td>\n    </tr>\n    <tr>\n      <th>2</th>\n      <td>2.0</td>\n      <td>8.0</td>\n      <td>0.625926</td>\n    </tr>\n    <tr>\n      <th>3</th>\n      <td>2.0</td>\n      <td>12.0</td>\n      <td>0.622222</td>\n    </tr>\n    <tr>\n      <th>4</th>\n      <td>2.0</td>\n      <td>15.0</td>\n      <td>0.648148</td>\n    </tr>\n    <tr>\n      <th>5</th>\n      <td>2.0</td>\n      <td>20.0</td>\n      <td>0.648148</td>\n    </tr>\n    <tr>\n      <th>6</th>\n      <td>2.0</td>\n      <td>30.0</td>\n      <td>0.633333</td>\n    </tr>\n    <tr>\n      <th>7</th>\n      <td>2.0</td>\n      <td>50.0</td>\n      <td>0.688889</td>\n    </tr>\n    <tr>\n      <th>8</th>\n      <td>3.0</td>\n      <td>2.0</td>\n      <td>0.603704</td>\n    </tr>\n    <tr>\n      <th>9</th>\n      <td>3.0</td>\n      <td>5.0</td>\n      <td>0.655556</td>\n    </tr>\n    <tr>\n      <th>10</th>\n      <td>3.0</td>\n      <td>8.0</td>\n      <td>0.685185</td>\n    </tr>\n    <tr>\n      <th>11</th>\n      <td>3.0</td>\n      <td>12.0</td>\n      <td>0.596296</td>\n    </tr>\n    <tr>\n      <th>12</th>\n      <td>3.0</td>\n      <td>15.0</td>\n      <td>0.670370</td>\n    </tr>\n    <tr>\n      <th>13</th>\n      <td>3.0</td>\n      <td>20.0</td>\n      <td>0.677778</td>\n    </tr>\n    <tr>\n      <th>14</th>\n      <td>3.0</td>\n      <td>30.0</td>\n      <td>0.696296</td>\n    </tr>\n    <tr>\n      <th>15</th>\n      <td>3.0</td>\n      <td>50.0</td>\n      <td>0.670370</td>\n    </tr>\n    <tr>\n      <th>16</th>\n      <td>5.0</td>\n      <td>2.0</td>\n      <td>0.618519</td>\n    </tr>\n    <tr>\n      <th>17</th>\n      <td>5.0</td>\n      <td>5.0</td>\n      <td>0.640741</td>\n    </tr>\n    <tr>\n      <th>18</th>\n      <td>5.0</td>\n      <td>8.0</td>\n      <td>0.659259</td>\n    </tr>\n    <tr>\n      <th>19</th>\n      <td>5.0</td>\n      <td>12.0</td>\n      <td>0.644444</td>\n    </tr>\n    <tr>\n      <th>20</th>\n      <td>5.0</td>\n      <td>15.0</td>\n      <td>0.659259</td>\n    </tr>\n    <tr>\n      <th>21</th>\n      <td>5.0</td>\n      <td>20.0</td>\n      <td>0.655556</td>\n    </tr>\n    <tr>\n      <th>22</th>\n      <td>5.0</td>\n      <td>30.0</td>\n      <td>0.655556</td>\n    </tr>\n    <tr>\n      <th>23</th>\n      <td>5.0</td>\n      <td>50.0</td>\n      <td>0.677778</td>\n    </tr>\n    <tr>\n      <th>24</th>\n      <td>7.0</td>\n      <td>2.0</td>\n      <td>0.600000</td>\n    </tr>\n    <tr>\n      <th>25</th>\n      <td>7.0</td>\n      <td>5.0</td>\n      <td>0.625926</td>\n    </tr>\n    <tr>\n      <th>26</th>\n      <td>7.0</td>\n      <td>8.0</td>\n      <td>0.618519</td>\n    </tr>\n    <tr>\n      <th>27</th>\n      <td>7.0</td>\n      <td>12.0</td>\n      <td>0.596296</td>\n    </tr>\n    <tr>\n      <th>28</th>\n      <td>7.0</td>\n      <td>15.0</td>\n      <td>0.644444</td>\n    </tr>\n    <tr>\n      <th>29</th>\n      <td>7.0</td>\n      <td>20.0</td>\n      <td>0.677778</td>\n    </tr>\n    <tr>\n      <th>30</th>\n      <td>7.0</td>\n      <td>30.0</td>\n      <td>0.662963</td>\n    </tr>\n    <tr>\n      <th>31</th>\n      <td>7.0</td>\n      <td>50.0</td>\n      <td>0.685185</td>\n    </tr>\n    <tr>\n      <th>32</th>\n      <td>10.0</td>\n      <td>2.0</td>\n      <td>0.607407</td>\n    </tr>\n    <tr>\n      <th>33</th>\n      <td>10.0</td>\n      <td>5.0</td>\n      <td>0.674074</td>\n    </tr>\n    <tr>\n      <th>34</th>\n      <td>10.0</td>\n      <td>8.0</td>\n      <td>0.607407</td>\n    </tr>\n    <tr>\n      <th>35</th>\n      <td>10.0</td>\n      <td>12.0</td>\n      <td>0.648148</td>\n    </tr>\n    <tr>\n      <th>36</th>\n      <td>10.0</td>\n      <td>15.0</td>\n      <td>0.629630</td>\n    </tr>\n    <tr>\n      <th>37</th>\n      <td>10.0</td>\n      <td>20.0</td>\n      <td>0.659259</td>\n    </tr>\n    <tr>\n      <th>38</th>\n      <td>10.0</td>\n      <td>30.0</td>\n      <td>0.677778</td>\n    </tr>\n    <tr>\n      <th>39</th>\n      <td>10.0</td>\n      <td>50.0</td>\n      <td>0.696296</td>\n    </tr>\n    <tr>\n      <th>40</th>\n      <td>20.0</td>\n      <td>2.0</td>\n      <td>0.640741</td>\n    </tr>\n    <tr>\n      <th>41</th>\n      <td>20.0</td>\n      <td>5.0</td>\n      <td>0.648148</td>\n    </tr>\n    <tr>\n      <th>42</th>\n      <td>20.0</td>\n      <td>8.0</td>\n      <td>0.618519</td>\n    </tr>\n    <tr>\n      <th>43</th>\n      <td>20.0</td>\n      <td>12.0</td>\n      <td>0.592593</td>\n    </tr>\n    <tr>\n      <th>44</th>\n      <td>20.0</td>\n      <td>15.0</td>\n      <td>0.644444</td>\n    </tr>\n    <tr>\n      <th>45</th>\n      <td>20.0</td>\n      <td>20.0</td>\n      <td>0.648148</td>\n    </tr>\n    <tr>\n      <th>46</th>\n      <td>20.0</td>\n      <td>30.0</td>\n      <td>0.644444</td>\n    </tr>\n    <tr>\n      <th>47</th>\n      <td>20.0</td>\n      <td>50.0</td>\n      <td>0.670370</td>\n    </tr>\n  </tbody>\n</table>\n</div>"
     },
     "execution_count": 16,
     "metadata": {},
     "output_type": "execute_result"
    }
   ],
   "source": [
    "results"
   ],
   "metadata": {
    "collapsed": false,
    "ExecuteTime": {
     "end_time": "2023-12-24T15:28:30.528667600Z",
     "start_time": "2023-12-24T15:28:30.514659500Z"
    }
   },
   "id": "8d850298aed0a3c6"
  },
  {
   "cell_type": "code",
   "execution_count": 17,
   "outputs": [
    {
     "data": {
      "text/plain": "<Axes: xlabel='depth', ylabel='score'>"
     },
     "execution_count": 17,
     "metadata": {},
     "output_type": "execute_result"
    },
    {
     "data": {
      "text/plain": "<Figure size 640x480 with 2 Axes>",
      "image/png": "[encoded data removed]"
     },
     "metadata": {},
     "output_type": "display_data"
    }
   ],
   "source": [
    "results.plot.scatter(\n",
    "    x='depth',\n",
    "    y='score',\n",
    "    c='k'\n",
    ")"
   ],
   "metadata": {
    "collapsed": false,
    "ExecuteTime": {
     "end_time": "2023-12-24T15:28:30.871185800Z",
     "start_time": "2023-12-24T15:28:30.529686300Z"
    }
   },
   "id": "f70b6c32b7ed26e3"
  },
  {
   "cell_type": "code",
   "execution_count": 18,
   "outputs": [],
   "source": [
    "classifier = RandomForestClassifier(num_trees=50)"
   ],
   "metadata": {
    "collapsed": false,
    "ExecuteTime": {
     "end_time": "2023-12-24T15:28:30.892654Z",
     "start_time": "2023-12-24T15:28:30.872180800Z"
    }
   },
   "id": "4ff43f157d1963cd"
  },
  {
   "cell_type": "code",
   "execution_count": 19,
   "outputs": [
    {
     "data": {
      "text/plain": "([0.5925925925925926,\n  0.7777777777777778,\n  1.0,\n  0.8888888888888888,\n  1.0,\n  0.9259259259259259,\n  0.9629629629629629,\n  1.0,\n  0.9629629629629629,\n  0.9629629629629629],\n 0.9074074074074074)"
     },
     "execution_count": 19,
     "metadata": {},
     "output_type": "execute_result"
    }
   ],
   "source": [
    "cross_validate(X, y, classifier, 10)"
   ],
   "metadata": {
    "collapsed": false,
    "ExecuteTime": {
     "end_time": "2023-12-24T15:29:49.880287400Z",
     "start_time": "2023-12-24T15:28:30.887653300Z"
    }
   },
   "id": "c5a28294c8805ec7"
  }
 ],
 "metadata": {
  "kernelspec": {
   "display_name": "Python 3",
   "language": "python",
   "name": "python3"
  },
  "language_info": {
   "codemirror_mode": {
    "name": "ipython",
    "version": 2
   },
   "file_extension": ".py",
   "mimetype": "text/x-python",
   "name": "python",
   "nbconvert_exporter": "python",
   "pygments_lexer": "ipython2",
   "version": "2.7.6"
  }
 },
 "nbformat": 4,
 "nbformat_minor": 5
}
