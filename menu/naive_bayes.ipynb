{
 "cells": [
  {
   "cell_type": "code",
   "execution_count": 1,
   "outputs": [],
   "source": [
    "import sys\n",
    "sys.path.append(\"..\")"
   ],
   "metadata": {
    "collapsed": false,
    "ExecuteTime": {
     "end_time": "2023-12-15T20:14:44.042801100Z",
     "start_time": "2023-12-15T20:14:43.995914Z"
    }
   },
   "id": "531b770295079044"
  },
  {
   "cell_type": "code",
   "execution_count": 2,
   "outputs": [],
   "source": [
    "from collections import Counter"
   ],
   "metadata": {
    "collapsed": false,
    "ExecuteTime": {
     "end_time": "2023-12-15T20:14:44.042801100Z",
     "start_time": "2023-12-15T20:14:44.011553400Z"
    }
   },
   "id": "c65617f12b0bf30"
  },
  {
   "cell_type": "code",
   "execution_count": 3,
   "outputs": [],
   "source": [
    "from ucimlrepo import fetch_ucirepo "
   ],
   "metadata": {
    "collapsed": false,
    "ExecuteTime": {
     "end_time": "2023-12-15T20:14:44.215698500Z",
     "start_time": "2023-12-15T20:14:44.027175400Z"
    }
   },
   "id": "ea81849d38dcdcac"
  },
  {
   "cell_type": "code",
   "execution_count": 4,
   "id": "initial_id",
   "metadata": {
    "collapsed": true,
    "ExecuteTime": {
     "end_time": "2023-12-15T20:14:44.231291400Z",
     "start_time": "2023-12-15T20:14:44.215698500Z"
    }
   },
   "outputs": [],
   "source": [
    "from recipes.naive_bayes_classifier import NaiveBayesClassifier\n",
    "from recipes.cross_validation import cross_validate"
   ]
  },
  {
   "cell_type": "markdown",
   "source": [
    "# Sample missing values from distribution"
   ],
   "metadata": {
    "collapsed": false
   },
   "id": "86a0927d0595889e"
  },
  {
   "cell_type": "code",
   "execution_count": 5,
   "outputs": [],
   "source": [
    "congressional_voting_records = fetch_ucirepo(id=105) \n",
    "X = congressional_voting_records.data.features \n",
    "y = congressional_voting_records.data.targets "
   ],
   "metadata": {
    "collapsed": false,
    "ExecuteTime": {
     "end_time": "2023-12-15T20:14:45.656564500Z",
     "start_time": "2023-12-15T20:14:44.231291400Z"
    }
   },
   "id": "bf249c540e9a6d68"
  },
  {
   "cell_type": "code",
   "execution_count": 6,
   "outputs": [
    {
     "data": {
      "text/plain": "    handicapped-infants water-project-cost-sharing  \\\n0                     n                          y   \n1                     n                          y   \n2                   NaN                          y   \n3                     n                          y   \n4                     y                          y   \n..                  ...                        ...   \n430                   n                          n   \n431                   n                          n   \n432                   n                        NaN   \n433                   n                          n   \n434                   n                          y   \n\n    adoption-of-the-budget-resolution physician-fee-freeze el-salvador-aid  \\\n0                                   n                    y               y   \n1                                   n                    y               y   \n2                                   y                  NaN               y   \n3                                   y                    n             NaN   \n4                                   y                    n               y   \n..                                ...                  ...             ...   \n430                                 y                    y               y   \n431                                 y                    n               n   \n432                                 n                    y               y   \n433                                 n                    y               y   \n434                                 n                    y               y   \n\n    religious-groups-in-schools anti-satellite-test-ban  \\\n0                             y                       n   \n1                             y                       n   \n2                             y                       n   \n3                             y                       n   \n4                             y                       n   \n..                          ...                     ...   \n430                           y                       n   \n431                           n                       y   \n432                           y                       n   \n433                           y                     NaN   \n434                           y                       n   \n\n    aid-to-nicaraguan-contras mx-missile immigration  \\\n0                           n          n           y   \n1                           n          n           n   \n2                           n          n           n   \n3                           n          n           n   \n4                           n          n           n   \n..                        ...        ...         ...   \n430                         n          y           y   \n431                         y          y           y   \n432                         n          n           n   \n433                       NaN        NaN         NaN   \n434                         n          n           y   \n\n    synfuels-corporation-cutback education-spending superfund-right-to-sue  \\\n0                            NaN                  y                      y   \n1                              n                  y                      y   \n2                              y                  n                      y   \n3                              y                  n                      y   \n4                              y                NaN                      y   \n..                           ...                ...                    ...   \n430                            n                  y                      y   \n431                            n                  n                      n   \n432                            y                  y                      y   \n433                            n                  y                      y   \n434                            n                  y                      y   \n\n    crime duty-free-exports export-administration-act-south-africa  \n0       y                 n                                      y  \n1       y                 n                                    NaN  \n2       y                 n                                      n  \n3       n                 n                                      y  \n4       y                 y                                      y  \n..    ...               ...                                    ...  \n430     y                 n                                      y  \n431     n                 n                                      y  \n432     y                 n                                      y  \n433     y                 n                                      y  \n434     y               NaN                                      n  \n\n[435 rows x 16 columns]",
      "text/html": "<div>\n<style scoped>\n    .dataframe tbody tr th:only-of-type {\n        vertical-align: middle;\n    }\n\n    .dataframe tbody tr th {\n        vertical-align: top;\n    }\n\n    .dataframe thead th {\n        text-align: right;\n    }\n</style>\n<table border=\"1\" class=\"dataframe\">\n  <thead>\n    <tr style=\"text-align: right;\">\n      <th></th>\n      <th>handicapped-infants</th>\n      <th>water-project-cost-sharing</th>\n      <th>adoption-of-the-budget-resolution</th>\n      <th>physician-fee-freeze</th>\n      <th>el-salvador-aid</th>\n      <th>religious-groups-in-schools</th>\n      <th>anti-satellite-test-ban</th>\n      <th>aid-to-nicaraguan-contras</th>\n      <th>mx-missile</th>\n      <th>immigration</th>\n      <th>synfuels-corporation-cutback</th>\n      <th>education-spending</th>\n      <th>superfund-right-to-sue</th>\n      <th>crime</th>\n      <th>duty-free-exports</th>\n      <th>export-administration-act-south-africa</th>\n    </tr>\n  </thead>\n  <tbody>\n    <tr>\n      <th>0</th>\n      <td>n</td>\n      <td>y</td>\n      <td>n</td>\n      <td>y</td>\n      <td>y</td>\n      <td>y</td>\n      <td>n</td>\n      <td>n</td>\n      <td>n</td>\n      <td>y</td>\n      <td>NaN</td>\n      <td>y</td>\n      <td>y</td>\n      <td>y</td>\n      <td>n</td>\n      <td>y</td>\n    </tr>\n    <tr>\n      <th>1</th>\n      <td>n</td>\n      <td>y</td>\n      <td>n</td>\n      <td>y</td>\n      <td>y</td>\n      <td>y</td>\n      <td>n</td>\n      <td>n</td>\n      <td>n</td>\n      <td>n</td>\n      <td>n</td>\n      <td>y</td>\n      <td>y</td>\n      <td>y</td>\n      <td>n</td>\n      <td>NaN</td>\n    </tr>\n    <tr>\n      <th>2</th>\n      <td>NaN</td>\n      <td>y</td>\n      <td>y</td>\n      <td>NaN</td>\n      <td>y</td>\n      <td>y</td>\n      <td>n</td>\n      <td>n</td>\n      <td>n</td>\n      <td>n</td>\n      <td>y</td>\n      <td>n</td>\n      <td>y</td>\n      <td>y</td>\n      <td>n</td>\n      <td>n</td>\n    </tr>\n    <tr>\n      <th>3</th>\n      <td>n</td>\n      <td>y</td>\n      <td>y</td>\n      <td>n</td>\n      <td>NaN</td>\n      <td>y</td>\n      <td>n</td>\n      <td>n</td>\n      <td>n</td>\n      <td>n</td>\n      <td>y</td>\n      <td>n</td>\n      <td>y</td>\n      <td>n</td>\n      <td>n</td>\n      <td>y</td>\n    </tr>\n    <tr>\n      <th>4</th>\n      <td>y</td>\n      <td>y</td>\n      <td>y</td>\n      <td>n</td>\n      <td>y</td>\n      <td>y</td>\n      <td>n</td>\n      <td>n</td>\n      <td>n</td>\n      <td>n</td>\n      <td>y</td>\n      <td>NaN</td>\n      <td>y</td>\n      <td>y</td>\n      <td>y</td>\n      <td>y</td>\n    </tr>\n    <tr>\n      <th>...</th>\n      <td>...</td>\n      <td>...</td>\n      <td>...</td>\n      <td>...</td>\n      <td>...</td>\n      <td>...</td>\n      <td>...</td>\n      <td>...</td>\n      <td>...</td>\n      <td>...</td>\n      <td>...</td>\n      <td>...</td>\n      <td>...</td>\n      <td>...</td>\n      <td>...</td>\n      <td>...</td>\n    </tr>\n    <tr>\n      <th>430</th>\n      <td>n</td>\n      <td>n</td>\n      <td>y</td>\n      <td>y</td>\n      <td>y</td>\n      <td>y</td>\n      <td>n</td>\n      <td>n</td>\n      <td>y</td>\n      <td>y</td>\n      <td>n</td>\n      <td>y</td>\n      <td>y</td>\n      <td>y</td>\n      <td>n</td>\n      <td>y</td>\n    </tr>\n    <tr>\n      <th>431</th>\n      <td>n</td>\n      <td>n</td>\n      <td>y</td>\n      <td>n</td>\n      <td>n</td>\n      <td>n</td>\n      <td>y</td>\n      <td>y</td>\n      <td>y</td>\n      <td>y</td>\n      <td>n</td>\n      <td>n</td>\n      <td>n</td>\n      <td>n</td>\n      <td>n</td>\n      <td>y</td>\n    </tr>\n    <tr>\n      <th>432</th>\n      <td>n</td>\n      <td>NaN</td>\n      <td>n</td>\n      <td>y</td>\n      <td>y</td>\n      <td>y</td>\n      <td>n</td>\n      <td>n</td>\n      <td>n</td>\n      <td>n</td>\n      <td>y</td>\n      <td>y</td>\n      <td>y</td>\n      <td>y</td>\n      <td>n</td>\n      <td>y</td>\n    </tr>\n    <tr>\n      <th>433</th>\n      <td>n</td>\n      <td>n</td>\n      <td>n</td>\n      <td>y</td>\n      <td>y</td>\n      <td>y</td>\n      <td>NaN</td>\n      <td>NaN</td>\n      <td>NaN</td>\n      <td>NaN</td>\n      <td>n</td>\n      <td>y</td>\n      <td>y</td>\n      <td>y</td>\n      <td>n</td>\n      <td>y</td>\n    </tr>\n    <tr>\n      <th>434</th>\n      <td>n</td>\n      <td>y</td>\n      <td>n</td>\n      <td>y</td>\n      <td>y</td>\n      <td>y</td>\n      <td>n</td>\n      <td>n</td>\n      <td>n</td>\n      <td>y</td>\n      <td>n</td>\n      <td>y</td>\n      <td>y</td>\n      <td>y</td>\n      <td>NaN</td>\n      <td>n</td>\n    </tr>\n  </tbody>\n</table>\n<p>435 rows × 16 columns</p>\n</div>"
     },
     "execution_count": 6,
     "metadata": {},
     "output_type": "execute_result"
    }
   ],
   "source": [
    "X"
   ],
   "metadata": {
    "collapsed": false,
    "ExecuteTime": {
     "end_time": "2023-12-15T20:14:45.687841500Z",
     "start_time": "2023-12-15T20:14:45.656564500Z"
    }
   },
   "id": "a0a78d4d96bc1dde"
  },
  {
   "cell_type": "code",
   "execution_count": 7,
   "outputs": [
    {
     "data": {
      "text/plain": "          Class\n0    republican\n1    republican\n2      democrat\n3      democrat\n4      democrat\n..          ...\n430  republican\n431    democrat\n432  republican\n433  republican\n434  republican\n\n[435 rows x 1 columns]",
      "text/html": "<div>\n<style scoped>\n    .dataframe tbody tr th:only-of-type {\n        vertical-align: middle;\n    }\n\n    .dataframe tbody tr th {\n        vertical-align: top;\n    }\n\n    .dataframe thead th {\n        text-align: right;\n    }\n</style>\n<table border=\"1\" class=\"dataframe\">\n  <thead>\n    <tr style=\"text-align: right;\">\n      <th></th>\n      <th>Class</th>\n    </tr>\n  </thead>\n  <tbody>\n    <tr>\n      <th>0</th>\n      <td>republican</td>\n    </tr>\n    <tr>\n      <th>1</th>\n      <td>republican</td>\n    </tr>\n    <tr>\n      <th>2</th>\n      <td>democrat</td>\n    </tr>\n    <tr>\n      <th>3</th>\n      <td>democrat</td>\n    </tr>\n    <tr>\n      <th>4</th>\n      <td>democrat</td>\n    </tr>\n    <tr>\n      <th>...</th>\n      <td>...</td>\n    </tr>\n    <tr>\n      <th>430</th>\n      <td>republican</td>\n    </tr>\n    <tr>\n      <th>431</th>\n      <td>democrat</td>\n    </tr>\n    <tr>\n      <th>432</th>\n      <td>republican</td>\n    </tr>\n    <tr>\n      <th>433</th>\n      <td>republican</td>\n    </tr>\n    <tr>\n      <th>434</th>\n      <td>republican</td>\n    </tr>\n  </tbody>\n</table>\n<p>435 rows × 1 columns</p>\n</div>"
     },
     "execution_count": 7,
     "metadata": {},
     "output_type": "execute_result"
    }
   ],
   "source": [
    "y"
   ],
   "metadata": {
    "collapsed": false,
    "ExecuteTime": {
     "end_time": "2023-12-15T20:14:45.756928200Z",
     "start_time": "2023-12-15T20:14:45.687841500Z"
    }
   },
   "id": "a42e0afb659608ed"
  },
  {
   "cell_type": "code",
   "execution_count": 8,
   "outputs": [
    {
     "data": {
      "text/plain": "0      republican\n1      republican\n2        democrat\n3        democrat\n4        democrat\n          ...    \n430    republican\n431      democrat\n432    republican\n433    republican\n434    republican\nName: Class, Length: 435, dtype: object"
     },
     "execution_count": 8,
     "metadata": {},
     "output_type": "execute_result"
    }
   ],
   "source": [
    "y = y['Class']\n",
    "y"
   ],
   "metadata": {
    "collapsed": false,
    "ExecuteTime": {
     "end_time": "2023-12-15T20:14:45.780244400Z",
     "start_time": "2023-12-15T20:14:45.703454100Z"
    }
   },
   "id": "bc7960144997f1a2"
  },
  {
   "cell_type": "code",
   "execution_count": 9,
   "outputs": [
    {
     "data": {
      "text/plain": "Counter({'democrat': 267, 'republican': 168})"
     },
     "execution_count": 9,
     "metadata": {},
     "output_type": "execute_result"
    }
   ],
   "source": [
    "Counter(y)"
   ],
   "metadata": {
    "collapsed": false,
    "ExecuteTime": {
     "end_time": "2023-12-15T20:14:45.780244400Z",
     "start_time": "2023-12-15T20:14:45.719091900Z"
    }
   },
   "id": "2143b18880063787"
  },
  {
   "cell_type": "code",
   "execution_count": null,
   "outputs": [],
   "source": [
    "for attribute in X.columns:\n",
    "    null_rows = X[attribute].isnull()\n",
    "    X.loc[null_rows] = X.dropna().sample(null_rows.sum()).values"
   ],
   "metadata": {
    "collapsed": false
   },
   "id": "5a8c60f0c63b6fad"
  },
  {
   "cell_type": "code",
   "execution_count": 11,
   "outputs": [
    {
     "data": {
      "text/plain": "    handicapped-infants water-project-cost-sharing  \\\n0                     n                          n   \n1                     y                          y   \n2                     n                          n   \n3                     y                          n   \n4                     y                          y   \n..                  ...                        ...   \n430                   n                          n   \n431                   n                          n   \n432                   n                          n   \n433                   y                          n   \n434                   y                          y   \n\n    adoption-of-the-budget-resolution physician-fee-freeze el-salvador-aid  \\\n0                                   y                    n               n   \n1                                   y                    n               n   \n2                                   n                    y               y   \n3                                   y                    n               n   \n4                                   y                    n               n   \n..                                ...                  ...             ...   \n430                                 y                    y               y   \n431                                 y                    n               n   \n432                                 n                    y               y   \n433                                 n                    y               y   \n434                                 y                    y               y   \n\n    religious-groups-in-schools anti-satellite-test-ban  \\\n0                             y                       y   \n1                             n                       y   \n2                             y                       n   \n3                             n                       y   \n4                             n                       y   \n..                          ...                     ...   \n430                           y                       n   \n431                           n                       y   \n432                           y                       n   \n433                           n                       y   \n434                           y                       n   \n\n    aid-to-nicaraguan-contras mx-missile immigration  \\\n0                           y          y           y   \n1                           y          y           y   \n2                           n          n           y   \n3                           y          y           n   \n4                           y          y           n   \n..                        ...        ...         ...   \n430                         n          y           y   \n431                         y          y           y   \n432                         n          n           n   \n433                         y          y           n   \n434                         n          n           n   \n\n    synfuels-corporation-cutback education-spending superfund-right-to-sue  \\\n0                              n                  n                      y   \n1                              y                  n                      n   \n2                              n                  y                      n   \n3                              y                  n                      n   \n4                              n                  n                      n   \n..                           ...                ...                    ...   \n430                            n                  y                      y   \n431                            n                  n                      n   \n432                            n                  y                      y   \n433                            n                  y                      y   \n434                            y                  y                      y   \n\n    crime duty-free-exports export-administration-act-south-africa  \n0       n                 n                                      y  \n1       n                 n                                      y  \n2       y                 n                                      y  \n3       n                 y                                      y  \n4       n                 y                                      y  \n..    ...               ...                                    ...  \n430     y                 n                                      y  \n431     n                 n                                      y  \n432     y                 n                                      y  \n433     y                 n                                      y  \n434     y                 n                                      y  \n\n[435 rows x 16 columns]",
      "text/html": "<div>\n<style scoped>\n    .dataframe tbody tr th:only-of-type {\n        vertical-align: middle;\n    }\n\n    .dataframe tbody tr th {\n        vertical-align: top;\n    }\n\n    .dataframe thead th {\n        text-align: right;\n    }\n</style>\n<table border=\"1\" class=\"dataframe\">\n  <thead>\n    <tr style=\"text-align: right;\">\n      <th></th>\n      <th>handicapped-infants</th>\n      <th>water-project-cost-sharing</th>\n      <th>adoption-of-the-budget-resolution</th>\n      <th>physician-fee-freeze</th>\n      <th>el-salvador-aid</th>\n      <th>religious-groups-in-schools</th>\n      <th>anti-satellite-test-ban</th>\n      <th>aid-to-nicaraguan-contras</th>\n      <th>mx-missile</th>\n      <th>immigration</th>\n      <th>synfuels-corporation-cutback</th>\n      <th>education-spending</th>\n      <th>superfund-right-to-sue</th>\n      <th>crime</th>\n      <th>duty-free-exports</th>\n      <th>export-administration-act-south-africa</th>\n    </tr>\n  </thead>\n  <tbody>\n    <tr>\n      <th>0</th>\n      <td>n</td>\n      <td>n</td>\n      <td>y</td>\n      <td>n</td>\n      <td>n</td>\n      <td>y</td>\n      <td>y</td>\n      <td>y</td>\n      <td>y</td>\n      <td>y</td>\n      <td>n</td>\n      <td>n</td>\n      <td>y</td>\n      <td>n</td>\n      <td>n</td>\n      <td>y</td>\n    </tr>\n    <tr>\n      <th>1</th>\n      <td>y</td>\n      <td>y</td>\n      <td>y</td>\n      <td>n</td>\n      <td>n</td>\n      <td>n</td>\n      <td>y</td>\n      <td>y</td>\n      <td>y</td>\n      <td>y</td>\n      <td>y</td>\n      <td>n</td>\n      <td>n</td>\n      <td>n</td>\n      <td>n</td>\n      <td>y</td>\n    </tr>\n    <tr>\n      <th>2</th>\n      <td>n</td>\n      <td>n</td>\n      <td>n</td>\n      <td>y</td>\n      <td>y</td>\n      <td>y</td>\n      <td>n</td>\n      <td>n</td>\n      <td>n</td>\n      <td>y</td>\n      <td>n</td>\n      <td>y</td>\n      <td>n</td>\n      <td>y</td>\n      <td>n</td>\n      <td>y</td>\n    </tr>\n    <tr>\n      <th>3</th>\n      <td>y</td>\n      <td>n</td>\n      <td>y</td>\n      <td>n</td>\n      <td>n</td>\n      <td>n</td>\n      <td>y</td>\n      <td>y</td>\n      <td>y</td>\n      <td>n</td>\n      <td>y</td>\n      <td>n</td>\n      <td>n</td>\n      <td>n</td>\n      <td>y</td>\n      <td>y</td>\n    </tr>\n    <tr>\n      <th>4</th>\n      <td>y</td>\n      <td>y</td>\n      <td>y</td>\n      <td>n</td>\n      <td>n</td>\n      <td>n</td>\n      <td>y</td>\n      <td>y</td>\n      <td>y</td>\n      <td>n</td>\n      <td>n</td>\n      <td>n</td>\n      <td>n</td>\n      <td>n</td>\n      <td>y</td>\n      <td>y</td>\n    </tr>\n    <tr>\n      <th>...</th>\n      <td>...</td>\n      <td>...</td>\n      <td>...</td>\n      <td>...</td>\n      <td>...</td>\n      <td>...</td>\n      <td>...</td>\n      <td>...</td>\n      <td>...</td>\n      <td>...</td>\n      <td>...</td>\n      <td>...</td>\n      <td>...</td>\n      <td>...</td>\n      <td>...</td>\n      <td>...</td>\n    </tr>\n    <tr>\n      <th>430</th>\n      <td>n</td>\n      <td>n</td>\n      <td>y</td>\n      <td>y</td>\n      <td>y</td>\n      <td>y</td>\n      <td>n</td>\n      <td>n</td>\n      <td>y</td>\n      <td>y</td>\n      <td>n</td>\n      <td>y</td>\n      <td>y</td>\n      <td>y</td>\n      <td>n</td>\n      <td>y</td>\n    </tr>\n    <tr>\n      <th>431</th>\n      <td>n</td>\n      <td>n</td>\n      <td>y</td>\n      <td>n</td>\n      <td>n</td>\n      <td>n</td>\n      <td>y</td>\n      <td>y</td>\n      <td>y</td>\n      <td>y</td>\n      <td>n</td>\n      <td>n</td>\n      <td>n</td>\n      <td>n</td>\n      <td>n</td>\n      <td>y</td>\n    </tr>\n    <tr>\n      <th>432</th>\n      <td>n</td>\n      <td>n</td>\n      <td>n</td>\n      <td>y</td>\n      <td>y</td>\n      <td>y</td>\n      <td>n</td>\n      <td>n</td>\n      <td>n</td>\n      <td>n</td>\n      <td>n</td>\n      <td>y</td>\n      <td>y</td>\n      <td>y</td>\n      <td>n</td>\n      <td>y</td>\n    </tr>\n    <tr>\n      <th>433</th>\n      <td>y</td>\n      <td>n</td>\n      <td>n</td>\n      <td>y</td>\n      <td>y</td>\n      <td>n</td>\n      <td>y</td>\n      <td>y</td>\n      <td>y</td>\n      <td>n</td>\n      <td>n</td>\n      <td>y</td>\n      <td>y</td>\n      <td>y</td>\n      <td>n</td>\n      <td>y</td>\n    </tr>\n    <tr>\n      <th>434</th>\n      <td>y</td>\n      <td>y</td>\n      <td>y</td>\n      <td>y</td>\n      <td>y</td>\n      <td>y</td>\n      <td>n</td>\n      <td>n</td>\n      <td>n</td>\n      <td>n</td>\n      <td>y</td>\n      <td>y</td>\n      <td>y</td>\n      <td>y</td>\n      <td>n</td>\n      <td>y</td>\n    </tr>\n  </tbody>\n</table>\n<p>435 rows × 16 columns</p>\n</div>"
     },
     "execution_count": 11,
     "metadata": {},
     "output_type": "execute_result"
    }
   ],
   "source": [
    "X"
   ],
   "metadata": {
    "collapsed": false,
    "ExecuteTime": {
     "end_time": "2023-12-15T20:14:45.780244400Z",
     "start_time": "2023-12-15T20:14:45.766434200Z"
    }
   },
   "id": "c5c7c8de73b48cc8"
  },
  {
   "cell_type": "code",
   "execution_count": 12,
   "outputs": [],
   "source": [
    "classifier = NaiveBayesClassifier()"
   ],
   "metadata": {
    "collapsed": false,
    "ExecuteTime": {
     "end_time": "2023-12-15T20:14:45.827136400Z",
     "start_time": "2023-12-15T20:14:45.780244400Z"
    }
   },
   "id": "70f46769ad77a9a1"
  },
  {
   "cell_type": "code",
   "execution_count": 13,
   "outputs": [
    {
     "data": {
      "text/plain": "([0.7906976744186046,\n  0.7209302325581395,\n  0.627906976744186,\n  0.627906976744186,\n  0.7906976744186046,\n  0.627906976744186,\n  0.7441860465116279,\n  0.7209302325581395,\n  0.7441860465116279,\n  0.6744186046511628],\n 0.7069767441860464)"
     },
     "execution_count": 13,
     "metadata": {},
     "output_type": "execute_result"
    }
   ],
   "source": [
    "cross_validate(X, y, classifier, 10)"
   ],
   "metadata": {
    "collapsed": false,
    "ExecuteTime": {
     "end_time": "2023-12-15T20:14:46.015908500Z",
     "start_time": "2023-12-15T20:14:45.795883500Z"
    }
   },
   "id": "65d7e6bb51e8f838"
  },
  {
   "cell_type": "markdown",
   "source": [
    "# Fill missing values with '?'"
   ],
   "metadata": {
    "collapsed": false
   },
   "id": "22cb4f93fe1c62a8"
  },
  {
   "cell_type": "code",
   "execution_count": 14,
   "outputs": [],
   "source": [
    "congressional_voting_records = fetch_ucirepo(id=105) \n",
    "X = congressional_voting_records.data.features \n",
    "y = congressional_voting_records.data.targets['Class']"
   ],
   "metadata": {
    "collapsed": false,
    "ExecuteTime": {
     "end_time": "2023-12-15T20:14:47.427061700Z",
     "start_time": "2023-12-15T20:14:46.015908500Z"
    }
   },
   "id": "d7d26074a5e33f9d"
  },
  {
   "cell_type": "code",
   "execution_count": 15,
   "outputs": [],
   "source": [
    "X = X.fillna('?')"
   ],
   "metadata": {
    "collapsed": false,
    "ExecuteTime": {
     "end_time": "2023-12-15T20:14:47.442693300Z",
     "start_time": "2023-12-15T20:14:47.427061700Z"
    }
   },
   "id": "5c3f35da0d6132a8"
  },
  {
   "cell_type": "code",
   "execution_count": 16,
   "outputs": [
    {
     "data": {
      "text/plain": "([0.9534883720930233,\n  0.9302325581395349,\n  0.9534883720930233,\n  0.8604651162790697,\n  0.9069767441860465,\n  0.8837209302325582,\n  0.8837209302325582,\n  0.9069767441860465,\n  0.813953488372093,\n  0.8604651162790697],\n 0.8953488372093024)"
     },
     "execution_count": 16,
     "metadata": {},
     "output_type": "execute_result"
    }
   ],
   "source": [
    "cross_validate(X, y, classifier, 10)"
   ],
   "metadata": {
    "collapsed": false,
    "ExecuteTime": {
     "end_time": "2023-12-15T20:14:47.678316300Z",
     "start_time": "2023-12-15T20:14:47.442693300Z"
    }
   },
   "id": "b3e0d37e4f73a9fe"
  },
  {
   "cell_type": "markdown",
   "source": [
    "# Fill missing values with mode"
   ],
   "metadata": {
    "collapsed": false
   },
   "id": "e4d35ec0dfbd048e"
  },
  {
   "cell_type": "code",
   "execution_count": 17,
   "outputs": [],
   "source": [
    "congressional_voting_records = fetch_ucirepo(id=105) \n",
    "X = congressional_voting_records.data.features \n",
    "y = congressional_voting_records.data.targets['Class']"
   ],
   "metadata": {
    "collapsed": false,
    "ExecuteTime": {
     "end_time": "2023-12-15T20:14:49.070179500Z",
     "start_time": "2023-12-15T20:14:47.678316300Z"
    }
   },
   "id": "8a2fbc1317a90a6f"
  },
  {
   "cell_type": "code",
   "execution_count": 18,
   "outputs": [],
   "source": [
    "X = X.fillna(X.mode().iloc[0])"
   ],
   "metadata": {
    "collapsed": false,
    "ExecuteTime": {
     "end_time": "2023-12-15T20:14:49.085919600Z",
     "start_time": "2023-12-15T20:14:49.070179500Z"
    }
   },
   "id": "ca190a7427090b82"
  },
  {
   "cell_type": "code",
   "execution_count": 19,
   "outputs": [
    {
     "data": {
      "text/plain": "([0.9534883720930233,\n  0.9302325581395349,\n  0.9534883720930233,\n  0.9069767441860465,\n  0.9302325581395349,\n  0.8837209302325582,\n  0.8837209302325582,\n  0.9302325581395349,\n  0.813953488372093,\n  0.8604651162790697],\n 0.9046511627906977)"
     },
     "execution_count": 19,
     "metadata": {},
     "output_type": "execute_result"
    }
   ],
   "source": [
    "cross_validate(X, y, classifier, 10)"
   ],
   "metadata": {
    "collapsed": false,
    "ExecuteTime": {
     "end_time": "2023-12-15T20:14:49.311626200Z",
     "start_time": "2023-12-15T20:14:49.085919600Z"
    }
   },
   "id": "b9094945522e5a6e"
  }
 ],
 "metadata": {
  "kernelspec": {
   "display_name": "Python 3",
   "language": "python",
   "name": "python3"
  },
  "language_info": {
   "codemirror_mode": {
    "name": "ipython",
    "version": 2
   },
   "file_extension": ".py",
   "mimetype": "text/x-python",
   "name": "python",
   "nbconvert_exporter": "python",
   "pygments_lexer": "ipython2",
   "version": "2.7.6"
  }
 },
 "nbformat": 4,
 "nbformat_minor": 5
}
