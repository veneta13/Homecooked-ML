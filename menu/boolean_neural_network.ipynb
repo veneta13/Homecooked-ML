{
 "cells": [
  {
   "cell_type": "code",
   "execution_count": 1,
   "outputs": [],
   "source": [
    "import sys\n",
    "sys.path.append(\"..\")"
   ],
   "metadata": {
    "collapsed": false,
    "ExecuteTime": {
     "end_time": "2024-01-07T15:35:58.148636500Z",
     "start_time": "2024-01-07T15:35:58.124125800Z"
    }
   },
   "id": "b6009aa60f79d3ed"
  },
  {
   "cell_type": "code",
   "execution_count": 2,
   "id": "initial_id",
   "metadata": {
    "collapsed": true,
    "ExecuteTime": {
     "end_time": "2024-01-07T15:35:58.191650200Z",
     "start_time": "2024-01-07T15:35:58.129127500Z"
    }
   },
   "outputs": [],
   "source": [
    "import numpy as np"
   ]
  },
  {
   "cell_type": "code",
   "execution_count": 3,
   "outputs": [],
   "source": [
    "from recipes.boolean_neural_network import BooleanNeuralNetwork"
   ],
   "metadata": {
    "collapsed": false,
    "ExecuteTime": {
     "end_time": "2024-01-07T15:35:58.207255200Z",
     "start_time": "2024-01-07T15:35:58.192637600Z"
    }
   },
   "id": "f05ab4996cd75b57"
  },
  {
   "cell_type": "markdown",
   "source": [
    "#  Data"
   ],
   "metadata": {
    "collapsed": false
   },
   "id": "fcc3c2479f0f9c82"
  },
  {
   "cell_type": "code",
   "execution_count": 4,
   "outputs": [],
   "source": [
    "data = {\n",
    "    'and': {\n",
    "        'in': [],\n",
    "        'out': []\n",
    "    },\n",
    "    'or': {\n",
    "        'in': [],\n",
    "        'out': []\n",
    "    },\n",
    "    'xor': {\n",
    "        'in': [],\n",
    "        'out': []\n",
    "    }\n",
    "}"
   ],
   "metadata": {
    "collapsed": false,
    "ExecuteTime": {
     "end_time": "2024-01-07T15:35:58.225778400Z",
     "start_time": "2024-01-07T15:35:58.209173400Z"
    }
   },
   "id": "e8828fbba8f5e08c"
  },
  {
   "cell_type": "code",
   "execution_count": 5,
   "outputs": [
    {
     "data": {
      "text/plain": "{'and': {'in': [[0, 0], [0, 1], [1, 0], [1, 1]], 'out': [0, 0, 0, 1]},\n 'or': {'in': [[0, 0], [0, 1], [1, 0], [1, 1]], 'out': [0, 1, 1, 1]},\n 'xor': {'in': [[0, 0], [0, 1], [1, 0], [1, 1]], 'out': [0, 1, 1, 0]}}"
     },
     "execution_count": 5,
     "metadata": {},
     "output_type": "execute_result"
    }
   ],
   "source": [
    "for x in [0, 1]:\n",
    "    for y in [0, 1]:\n",
    "        data['and']['in'].append([x, y])\n",
    "        data['and']['out'].append(x & y)\n",
    "        data['or']['in'].append([x, y])\n",
    "        data['or']['out'].append(x | y)\n",
    "        data['xor']['in'].append([x, y])\n",
    "        data['xor']['out'].append(x ^ y)\n",
    "\n",
    "data"
   ],
   "metadata": {
    "collapsed": false,
    "ExecuteTime": {
     "end_time": "2024-01-07T15:35:58.236805300Z",
     "start_time": "2024-01-07T15:35:58.224797300Z"
    }
   },
   "id": "8cc420d0659118f6"
  },
  {
   "cell_type": "markdown",
   "source": [
    "# AND"
   ],
   "metadata": {
    "collapsed": false
   },
   "id": "a3f5fb6f36345b10"
  },
  {
   "cell_type": "code",
   "execution_count": 6,
   "outputs": [],
   "source": [
    "and_net = BooleanNeuralNetwork([2, 2, 1])"
   ],
   "metadata": {
    "collapsed": false,
    "ExecuteTime": {
     "end_time": "2024-01-07T15:35:58.283505600Z",
     "start_time": "2024-01-07T15:35:58.239783800Z"
    }
   },
   "id": "b97785096a7da0b1"
  },
  {
   "cell_type": "code",
   "execution_count": 7,
   "outputs": [],
   "source": [
    "and_net.train(data['and']['in'], data['and']['out'], verbose=False)"
   ],
   "metadata": {
    "collapsed": false,
    "ExecuteTime": {
     "end_time": "2024-01-07T15:36:03.501776400Z",
     "start_time": "2024-01-07T15:35:58.256419300Z"
    }
   },
   "id": "44dfa6cb0e695b33"
  },
  {
   "cell_type": "code",
   "execution_count": 8,
   "outputs": [
    {
     "name": "stdout",
     "output_type": "stream",
     "text": [
      "Input: [0, 0] \t Expected output: 0 \t Output: 0.0008924381746635429\n",
      "Input: [0, 1] \t Expected output: 0 \t Output: 0.008641215659208853\n",
      "Input: [1, 0] \t Expected output: 0 \t Output: 0.00864252540866256\n",
      "Input: [1, 1] \t Expected output: 1 \t Output: 0.9838751514859222\n",
      "Accuracy:  1.0\n"
     ]
    }
   ],
   "source": [
    "and_net.test(data['and']['in'], data['and']['out'])"
   ],
   "metadata": {
    "collapsed": false,
    "ExecuteTime": {
     "end_time": "2024-01-07T15:36:03.562064100Z",
     "start_time": "2024-01-07T15:36:03.503778Z"
    }
   },
   "id": "d2abae4d0db32906"
  },
  {
   "cell_type": "markdown",
   "source": [
    "# OR"
   ],
   "metadata": {
    "collapsed": false
   },
   "id": "a676700830a43163"
  },
  {
   "cell_type": "code",
   "execution_count": 9,
   "outputs": [],
   "source": [
    "or_net = BooleanNeuralNetwork([2, 2, 1])"
   ],
   "metadata": {
    "collapsed": false,
    "ExecuteTime": {
     "end_time": "2024-01-07T15:36:03.567063300Z",
     "start_time": "2024-01-07T15:36:03.534492Z"
    }
   },
   "id": "c1e4914d04d9659"
  },
  {
   "cell_type": "code",
   "execution_count": 10,
   "outputs": [],
   "source": [
    "or_net.train(data['or']['in'], data['or']['out'], verbose=False)"
   ],
   "metadata": {
    "collapsed": false,
    "ExecuteTime": {
     "end_time": "2024-01-07T15:36:08.589002900Z",
     "start_time": "2024-01-07T15:36:03.549717600Z"
    }
   },
   "id": "22162910ad9c8a8f"
  },
  {
   "cell_type": "code",
   "execution_count": 11,
   "outputs": [
    {
     "name": "stdout",
     "output_type": "stream",
     "text": [
      "Input: [0, 0] \t Expected output: 0 \t Output: 0.015332340275372072\n",
      "Input: [0, 1] \t Expected output: 1 \t Output: 0.9921254454325058\n",
      "Input: [1, 0] \t Expected output: 1 \t Output: 0.9921229554121889\n",
      "Input: [1, 1] \t Expected output: 1 \t Output: 0.9973909822450604\n",
      "Accuracy:  1.0\n"
     ]
    }
   ],
   "source": [
    "or_net.test(data['or']['in'], data['or']['out'])"
   ],
   "metadata": {
    "collapsed": false,
    "ExecuteTime": {
     "end_time": "2024-01-07T15:36:08.603002Z",
     "start_time": "2024-01-07T15:36:08.588009800Z"
    }
   },
   "id": "be96327bcc0d1fa5"
  },
  {
   "cell_type": "markdown",
   "source": [
    "# XOR"
   ],
   "metadata": {
    "collapsed": false
   },
   "id": "1207fb4d24244d66"
  },
  {
   "cell_type": "code",
   "execution_count": 12,
   "outputs": [],
   "source": [
    "xor_net = BooleanNeuralNetwork([2, 2, 1])"
   ],
   "metadata": {
    "collapsed": false,
    "ExecuteTime": {
     "end_time": "2024-01-07T15:36:08.646436900Z",
     "start_time": "2024-01-07T15:36:08.604001Z"
    }
   },
   "id": "822db28c66f2361e"
  },
  {
   "cell_type": "code",
   "execution_count": 13,
   "outputs": [],
   "source": [
    "xor_net.train(data['xor']['in'], data['xor']['out'], verbose=False)"
   ],
   "metadata": {
    "collapsed": false,
    "ExecuteTime": {
     "end_time": "2024-01-07T15:36:13.681863400Z",
     "start_time": "2024-01-07T15:36:08.619439Z"
    }
   },
   "id": "a9cb44751421a34c"
  },
  {
   "cell_type": "code",
   "execution_count": 14,
   "outputs": [
    {
     "name": "stdout",
     "output_type": "stream",
     "text": [
      "Input: [0, 0] \t Expected output: 0 \t Output: 0.13155402858773793\n",
      "Input: [0, 1] \t Expected output: 1 \t Output: 0.8090808312732078\n",
      "Input: [1, 0] \t Expected output: 1 \t Output: 0.7990503071899012\n",
      "Input: [1, 1] \t Expected output: 0 \t Output: 0.23635009101169135\n",
      "Accuracy:  1.0\n"
     ]
    }
   ],
   "source": [
    "xor_net.test(data['xor']['in'], data['xor']['out'])"
   ],
   "metadata": {
    "collapsed": false,
    "ExecuteTime": {
     "end_time": "2024-01-07T15:36:13.695565100Z",
     "start_time": "2024-01-07T15:36:13.680893Z"
    }
   },
   "id": "bf2eeef1d35b7ef5"
  }
 ],
 "metadata": {
  "kernelspec": {
   "display_name": "Python 3",
   "language": "python",
   "name": "python3"
  },
  "language_info": {
   "codemirror_mode": {
    "name": "ipython",
    "version": 2
   },
   "file_extension": ".py",
   "mimetype": "text/x-python",
   "name": "python",
   "nbconvert_exporter": "python",
   "pygments_lexer": "ipython2",
   "version": "2.7.6"
  }
 },
 "nbformat": 4,
 "nbformat_minor": 5
}
